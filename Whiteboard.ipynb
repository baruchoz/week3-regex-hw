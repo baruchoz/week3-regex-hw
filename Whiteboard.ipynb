{
 "cells": [
  {
   "cell_type": "markdown",
   "id": "a2a7c687",
   "metadata": {},
   "source": [
    "Given an integer n, return a string array answer (1-indexed) where:\n",
    "\n",
    "answer[i] == \"FizzBuzz\" if i is divisible by 3 and 5.\n",
    "answer[i] == \"Fizz\" if i is divisible by 3.\n",
    "answer[i] == \"Buzz\" if i is divisible by 5.\n",
    "answer[i] == i if non of the above conditions are true.\n",
    " \n",
    "ex1:\n",
    "Input: n = 3\n",
    "Output: [\"1\",\"2\",\"Fizz\"]\n",
    "\n",
    "ex2:\n",
    "Input: n = 5\n",
    "Output: [\"1\",\"2\",\"Fizz\",\"4\",\"Buzz\"]\n",
    "\n",
    "ex3:\n",
    "Input: n = 15\n",
    "Output: [\"1\",\"2\",\"Fizz\",\"4\",\"Buzz\",\"Fizz\",\"7\",\"8\",\"Fizz\",\"Buzz\",\"11\",\"Fizz\",\"13\",\"14\",\"FizzBuzz\"]"
   ]
  },
  {
   "cell_type": "code",
   "execution_count": 1,
   "id": "7442022e",
   "metadata": {},
   "outputs": [
    {
     "name": "stdout",
     "output_type": "stream",
     "text": [
      "['1', '2', 'Fizz', '4', 'Buzz', 'Fizz', '7', '8', 'Fizz', 'Buzz', '11', 'Fizz', '13', '14', 'FizzBuzz']\n",
      "None\n"
     ]
    }
   ],
   "source": [
    "def fizz(n):\n",
    "    lst = []\n",
    "    for i in range (1, n + 1):\n",
    "        if i % 3  == 0 and i % 5 == 0:\n",
    "            lst.append('FizzBuzz')\n",
    "        elif i % 3 == 0:\n",
    "            lst.append('Fizz')\n",
    "        elif i % 5 == 0:\n",
    "            lst.append('Buzz')\n",
    "        else:\n",
    "            lst.append(str(i))\n",
    "    print(lst)\n",
    "print(fizz(15))"
   ]
  }
 ],
 "metadata": {
  "kernelspec": {
   "display_name": "Python 3",
   "language": "python",
   "name": "python3"
  },
  "language_info": {
   "codemirror_mode": {
    "name": "ipython",
    "version": 3
   },
   "file_extension": ".py",
   "mimetype": "text/x-python",
   "name": "python",
   "nbconvert_exporter": "python",
   "pygments_lexer": "ipython3",
   "version": "3.8.8"
  }
 },
 "nbformat": 4,
 "nbformat_minor": 5
}
